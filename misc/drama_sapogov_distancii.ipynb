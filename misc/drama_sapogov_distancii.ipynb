{
 "cells": [
  {
   "cell_type": "code",
   "execution_count": 1,
   "metadata": {},
   "outputs": [],
   "source": [
    "library(ggplot2)"
   ]
  },
  {
   "cell_type": "code",
   "execution_count": 19,
   "metadata": {},
   "outputs": [
    {
     "data": {
      "text/html": [
       "<table>\n",
       "<caption>A matrix: 6 × 5 of type dbl</caption>\n",
       "<tbody>\n",
       "\t<tr><th scope=row>Волки и овцы</th><td>0.250000</td><td>0.164706</td><td>0.156863</td><td>0.176471</td><td>0.191176</td></tr>\n",
       "\t<tr><th scope=row>И крылья есть, да лететь некуда</th><td>0.156250</td><td>0.142857</td><td>0.229167</td><td>0.166667</td><td>0.250000</td></tr>\n",
       "\t<tr><th scope=row>Лес</th><td>0.318182</td><td>0.181818</td><td>0.325758</td><td>0.204545</td><td>0.323232</td></tr>\n",
       "\t<tr><th scope=row>Майорша</th><td>0.204545</td><td>0.226190</td><td>0.270833</td><td>0.201389</td><td>0.183333</td></tr>\n",
       "\t<tr><th scope=row>Мертвая петля</th><td>0.157407</td><td>0.154321</td><td>0.244444</td><td>0.126984</td><td>0.179012</td></tr>\n",
       "\t<tr><th scope=row>Яблоко раздора</th><td>0.319444</td><td>0.305556</td><td>0.283951</td><td>0.236111</td><td>0.212121</td></tr>\n",
       "</tbody>\n",
       "</table>\n"
      ],
      "text/latex": [
       "A matrix: 6 × 5 of type dbl\n",
       "\\begin{tabular}{r|lllll}\n",
       "\tВолки и овцы & 0.250000 & 0.164706 & 0.156863 & 0.176471 & 0.191176\\\\\n",
       "\tИ крылья есть, да лететь некуда & 0.156250 & 0.142857 & 0.229167 & 0.166667 & 0.250000\\\\\n",
       "\tЛес & 0.318182 & 0.181818 & 0.325758 & 0.204545 & 0.323232\\\\\n",
       "\tМайорша & 0.204545 & 0.226190 & 0.270833 & 0.201389 & 0.183333\\\\\n",
       "\tМертвая петля & 0.157407 & 0.154321 & 0.244444 & 0.126984 & 0.179012\\\\\n",
       "\tЯблоко раздора & 0.319444 & 0.305556 & 0.283951 & 0.236111 & 0.212121\\\\\n",
       "\\end{tabular}\n"
      ],
      "text/markdown": [
       "\n",
       "A matrix: 6 × 5 of type dbl\n",
       "\n",
       "| Волки и овцы | 0.250000 | 0.164706 | 0.156863 | 0.176471 | 0.191176 |\n",
       "| И крылья есть, да лететь некуда | 0.156250 | 0.142857 | 0.229167 | 0.166667 | 0.250000 |\n",
       "| Лес | 0.318182 | 0.181818 | 0.325758 | 0.204545 | 0.323232 |\n",
       "| Майорша | 0.204545 | 0.226190 | 0.270833 | 0.201389 | 0.183333 |\n",
       "| Мертвая петля | 0.157407 | 0.154321 | 0.244444 | 0.126984 | 0.179012 |\n",
       "| Яблоко раздора | 0.319444 | 0.305556 | 0.283951 | 0.236111 | 0.212121 |\n",
       "\n"
      ],
      "text/plain": [
       "                                [,1]     [,2]     [,3]     [,4]     [,5]    \n",
       "Волки и овцы                    0.250000 0.164706 0.156863 0.176471 0.191176\n",
       "И крылья есть, да лететь некуда 0.156250 0.142857 0.229167 0.166667 0.250000\n",
       "Лес                             0.318182 0.181818 0.325758 0.204545 0.323232\n",
       "Майорша                         0.204545 0.226190 0.270833 0.201389 0.183333\n",
       "Мертвая петля                   0.157407 0.154321 0.244444 0.126984 0.179012\n",
       "Яблоко раздора                  0.319444 0.305556 0.283951 0.236111 0.212121"
      ]
     },
     "metadata": {},
     "output_type": "display_data"
    }
   ],
   "source": [
    "X4 = rbind(\n",
    "    c(0.250000, 0.164706, 0.156863, 0.176471, 0.191176),\n",
    "    c(0.156250, 0.142857, 0.229167, 0.166667, 0.250000),\n",
    "    c(0.318182, 0.181818, 0.325758, 0.204545, 0.323232),\n",
    "    c(0.204545, 0.226190, 0.270833, 0.201389, 0.183333),\n",
    "    c(0.157407, 0.154321, 0.244444, 0.126984, 0.179012),\n",
    "    c(0.319444, 0.305556, 0.283951, 0.236111, 0.212121)\n",
    ")\n",
    "rownames(X4) = c(\"Волки и овцы\",\"И крылья есть, да лететь некуда\",\"Лес\",\"Майорша\",\"Мертвая петля\",\"Яблоко раздора\")\n",
    "\n",
    "X4"
   ]
  },
  {
   "cell_type": "code",
   "execution_count": 20,
   "metadata": {},
   "outputs": [
    {
     "data": {
      "text/html": [
       "<table>\n",
       "<caption>A matrix: 6 × 4 of type dbl</caption>\n",
       "<tbody>\n",
       "\t<tr><th scope=row>В осадном положении</th><td>0.316667</td><td>0.320000</td><td>0.281818</td><td>0.360000</td></tr>\n",
       "\t<tr><th scope=row>Злоба дня</th><td>0.265625</td><td>0.156250</td><td>0.225000</td><td>0.242188</td></tr>\n",
       "\t<tr><th scope=row>Знай наших</th><td>0.187970</td><td>0.333333</td><td>0.315789</td><td>0.236842</td></tr>\n",
       "\t<tr><th scope=row>Из-за денег</th><td>0.148148</td><td>0.222222</td><td>0.122507</td><td>0.292181</td></tr>\n",
       "\t<tr><th scope=row>Путь правды</th><td>0.142857</td><td>0.144928</td><td>0.183946</td><td>0.159420</td></tr>\n",
       "\t<tr><th scope=row>Финансовый гений</th><td>0.261905</td><td>0.150000</td><td>0.133333</td><td>0.296296</td></tr>\n",
       "</tbody>\n",
       "</table>\n"
      ],
      "text/latex": [
       "A matrix: 6 × 4 of type dbl\n",
       "\\begin{tabular}{r|llll}\n",
       "\tВ осадном положении & 0.316667 & 0.320000 & 0.281818 & 0.360000\\\\\n",
       "\tЗлоба дня & 0.265625 & 0.156250 & 0.225000 & 0.242188\\\\\n",
       "\tЗнай наших & 0.187970 & 0.333333 & 0.315789 & 0.236842\\\\\n",
       "\tИз-за денег & 0.148148 & 0.222222 & 0.122507 & 0.292181\\\\\n",
       "\tПуть правды & 0.142857 & 0.144928 & 0.183946 & 0.159420\\\\\n",
       "\tФинансовый гений & 0.261905 & 0.150000 & 0.133333 & 0.296296\\\\\n",
       "\\end{tabular}\n"
      ],
      "text/markdown": [
       "\n",
       "A matrix: 6 × 4 of type dbl\n",
       "\n",
       "| В осадном положении | 0.316667 | 0.320000 | 0.281818 | 0.360000 |\n",
       "| Злоба дня | 0.265625 | 0.156250 | 0.225000 | 0.242188 |\n",
       "| Знай наших | 0.187970 | 0.333333 | 0.315789 | 0.236842 |\n",
       "| Из-за денег | 0.148148 | 0.222222 | 0.122507 | 0.292181 |\n",
       "| Путь правды | 0.142857 | 0.144928 | 0.183946 | 0.159420 |\n",
       "| Финансовый гений | 0.261905 | 0.150000 | 0.133333 | 0.296296 |\n",
       "\n"
      ],
      "text/plain": [
       "                    [,1]     [,2]     [,3]     [,4]    \n",
       "В осадном положении 0.316667 0.320000 0.281818 0.360000\n",
       "Злоба дня           0.265625 0.156250 0.225000 0.242188\n",
       "Знай наших          0.187970 0.333333 0.315789 0.236842\n",
       "Из-за денег         0.148148 0.222222 0.122507 0.292181\n",
       "Путь правды         0.142857 0.144928 0.183946 0.159420\n",
       "Финансовый гений    0.261905 0.150000 0.133333 0.296296"
      ]
     },
     "metadata": {},
     "output_type": "display_data"
    }
   ],
   "source": [
    "X5 = rbind(\n",
    "    c(0.316667, 0.320000, 0.281818, 0.360000),\n",
    "    c(0.265625, 0.156250, 0.225000, 0.242188),\n",
    "    c(0.187970, 0.333333, 0.315789, 0.236842),\n",
    "    c(0.148148, 0.222222, 0.122507, 0.292181),\n",
    "    c(0.142857, 0.144928, 0.183946, 0.159420),\n",
    "    c(0.261905, 0.150000, 0.133333, 0.296296)\n",
    ")\n",
    "rownames(X5) = c(\"В осадном положении\", \"Злоба дня\", \"Знай наших\", \"Из-за денег\", \"Путь правды\", \"Финансовый гений\")\n",
    "\n",
    "X5"
   ]
  },
  {
   "cell_type": "code",
   "execution_count": 25,
   "metadata": {},
   "outputs": [
    {
     "data": {
      "text/html": [
       "<table>\n",
       "<caption>A matrix: 6 × 6 of type dbl</caption>\n",
       "<thead>\n",
       "\t<tr><th></th><th scope=col>Волки и овцы</th><th scope=col>И крылья есть, да лететь некуда</th><th scope=col>Лес</th><th scope=col>Майорша</th><th scope=col>Мертвая петля</th><th scope=col>Яблоко раздора</th></tr>\n",
       "</thead>\n",
       "<tbody>\n",
       "\t<tr><th scope=row>Волки и овцы</th><td>0.0000000</td><td>0.1343529</td><td>0.2273633</td><td>0.1397069</td><td>0.1376542</td><td>0.2116794</td></tr>\n",
       "\t<tr><th scope=row>И крылья есть, да лететь некуда</th><td>0.1343529</td><td>0.0000000</td><td>0.2094455</td><td>0.1290851</td><td>0.0835475</td><td>0.2497235</td></tr>\n",
       "\t<tr><th scope=row>Лес</th><td>0.2273633</td><td>0.2094455</td><td>0.0000000</td><td>0.1935993</td><td>0.2450138</td><td>0.1743633</td></tr>\n",
       "\t<tr><th scope=row>Майорша</th><td>0.1397069</td><td>0.1290851</td><td>0.1935993</td><td>0.0000000</td><td>0.1167831</td><td>0.1473336</td></tr>\n",
       "\t<tr><th scope=row>Мертвая петля</th><td>0.1376542</td><td>0.0835475</td><td>0.2450138</td><td>0.1167831</td><td>0.0000000</td><td>0.2523762</td></tr>\n",
       "\t<tr><th scope=row>Яблоко раздора</th><td>0.2116794</td><td>0.2497235</td><td>0.1743633</td><td>0.1473336</td><td>0.2523762</td><td>0.0000000</td></tr>\n",
       "</tbody>\n",
       "</table>\n"
      ],
      "text/latex": [
       "A matrix: 6 × 6 of type dbl\n",
       "\\begin{tabular}{r|llllll}\n",
       "  & Волки и овцы & И крылья есть, да лететь некуда & Лес & Майорша & Мертвая петля & Яблоко раздора\\\\\n",
       "\\hline\n",
       "\tВолки и овцы & 0.0000000 & 0.1343529 & 0.2273633 & 0.1397069 & 0.1376542 & 0.2116794\\\\\n",
       "\tИ крылья есть, да лететь некуда & 0.1343529 & 0.0000000 & 0.2094455 & 0.1290851 & 0.0835475 & 0.2497235\\\\\n",
       "\tЛес & 0.2273633 & 0.2094455 & 0.0000000 & 0.1935993 & 0.2450138 & 0.1743633\\\\\n",
       "\tМайорша & 0.1397069 & 0.1290851 & 0.1935993 & 0.0000000 & 0.1167831 & 0.1473336\\\\\n",
       "\tМертвая петля & 0.1376542 & 0.0835475 & 0.2450138 & 0.1167831 & 0.0000000 & 0.2523762\\\\\n",
       "\tЯблоко раздора & 0.2116794 & 0.2497235 & 0.1743633 & 0.1473336 & 0.2523762 & 0.0000000\\\\\n",
       "\\end{tabular}\n"
      ],
      "text/markdown": [
       "\n",
       "A matrix: 6 × 6 of type dbl\n",
       "\n",
       "| <!--/--> | Волки и овцы | И крылья есть, да лететь некуда | Лес | Майорша | Мертвая петля | Яблоко раздора |\n",
       "|---|---|---|---|---|---|---|\n",
       "| Волки и овцы | 0.0000000 | 0.1343529 | 0.2273633 | 0.1397069 | 0.1376542 | 0.2116794 |\n",
       "| И крылья есть, да лететь некуда | 0.1343529 | 0.0000000 | 0.2094455 | 0.1290851 | 0.0835475 | 0.2497235 |\n",
       "| Лес | 0.2273633 | 0.2094455 | 0.0000000 | 0.1935993 | 0.2450138 | 0.1743633 |\n",
       "| Майорша | 0.1397069 | 0.1290851 | 0.1935993 | 0.0000000 | 0.1167831 | 0.1473336 |\n",
       "| Мертвая петля | 0.1376542 | 0.0835475 | 0.2450138 | 0.1167831 | 0.0000000 | 0.2523762 |\n",
       "| Яблоко раздора | 0.2116794 | 0.2497235 | 0.1743633 | 0.1473336 | 0.2523762 | 0.0000000 |\n",
       "\n"
      ],
      "text/plain": [
       "                                Волки и овцы И крылья есть, да лететь некуда\n",
       "Волки и овцы                    0.0000000    0.1343529                      \n",
       "И крылья есть, да лететь некуда 0.1343529    0.0000000                      \n",
       "Лес                             0.2273633    0.2094455                      \n",
       "Майорша                         0.1397069    0.1290851                      \n",
       "Мертвая петля                   0.1376542    0.0835475                      \n",
       "Яблоко раздора                  0.2116794    0.2497235                      \n",
       "                                Лес       Майорша   Мертвая петля\n",
       "Волки и овцы                    0.2273633 0.1397069 0.1376542    \n",
       "И крылья есть, да лететь некуда 0.2094455 0.1290851 0.0835475    \n",
       "Лес                             0.0000000 0.1935993 0.2450138    \n",
       "Майорша                         0.1935993 0.0000000 0.1167831    \n",
       "Мертвая петля                   0.2450138 0.1167831 0.0000000    \n",
       "Яблоко раздора                  0.1743633 0.1473336 0.2523762    \n",
       "                                Яблоко раздора\n",
       "Волки и овцы                    0.2116794     \n",
       "И крылья есть, да лететь некуда 0.2497235     \n",
       "Лес                             0.1743633     \n",
       "Майорша                         0.1473336     \n",
       "Мертвая петля                   0.2523762     \n",
       "Яблоко раздора                  0.0000000     "
      ]
     },
     "metadata": {},
     "output_type": "display_data"
    }
   ],
   "source": [
    "D4 = dist(X4, method=\"euclidean\", diag=T, upper=T)\n",
    "as.matrix(D4)"
   ]
  },
  {
   "cell_type": "code",
   "execution_count": 26,
   "metadata": {},
   "outputs": [
    {
     "data": {
      "text/html": [
       "<table>\n",
       "<caption>A matrix: 6 × 6 of type dbl</caption>\n",
       "<thead>\n",
       "\t<tr><th></th><th scope=col>В осадном положении</th><th scope=col>Злоба дня</th><th scope=col>Знай наших</th><th scope=col>Из-за денег</th><th scope=col>Путь правды</th><th scope=col>Финансовый гений</th></tr>\n",
       "</thead>\n",
       "<tbody>\n",
       "\t<tr><th scope=row>В осадном положении</th><td>0.0000000</td><td>0.2157019</td><td>0.1818313</td><td>0.2606503</td><td>0.3326731</td><td>0.2408420</td></tr>\n",
       "\t<tr><th scope=row>Злоба дня</th><td>0.2157019</td><td>0.0000000</td><td>0.2136818</td><td>0.1765142</td><td>0.1540654</td><td>0.1066931</td></tr>\n",
       "\t<tr><th scope=row>Знай наших</th><td>0.1818313</td><td>0.2136818</td><td>0.0000000</td><td>0.2331347</td><td>0.2467962</td><td>0.2755038</td></tr>\n",
       "\t<tr><th scope=row>Из-за денег</th><td>0.2606503</td><td>0.1765142</td><td>0.2331347</td><td>0.0000000</td><td>0.1655373</td><td>0.1352435</td></tr>\n",
       "\t<tr><th scope=row>Путь правды</th><td>0.3326731</td><td>0.1540654</td><td>0.2467962</td><td>0.1655373</td><td>0.0000000</td><td>0.1884008</td></tr>\n",
       "\t<tr><th scope=row>Финансовый гений</th><td>0.2408420</td><td>0.1066931</td><td>0.2755038</td><td>0.1352435</td><td>0.1884008</td><td>0.0000000</td></tr>\n",
       "</tbody>\n",
       "</table>\n"
      ],
      "text/latex": [
       "A matrix: 6 × 6 of type dbl\n",
       "\\begin{tabular}{r|llllll}\n",
       "  & В осадном положении & Злоба дня & Знай наших & Из-за денег & Путь правды & Финансовый гений\\\\\n",
       "\\hline\n",
       "\tВ осадном положении & 0.0000000 & 0.2157019 & 0.1818313 & 0.2606503 & 0.3326731 & 0.2408420\\\\\n",
       "\tЗлоба дня & 0.2157019 & 0.0000000 & 0.2136818 & 0.1765142 & 0.1540654 & 0.1066931\\\\\n",
       "\tЗнай наших & 0.1818313 & 0.2136818 & 0.0000000 & 0.2331347 & 0.2467962 & 0.2755038\\\\\n",
       "\tИз-за денег & 0.2606503 & 0.1765142 & 0.2331347 & 0.0000000 & 0.1655373 & 0.1352435\\\\\n",
       "\tПуть правды & 0.3326731 & 0.1540654 & 0.2467962 & 0.1655373 & 0.0000000 & 0.1884008\\\\\n",
       "\tФинансовый гений & 0.2408420 & 0.1066931 & 0.2755038 & 0.1352435 & 0.1884008 & 0.0000000\\\\\n",
       "\\end{tabular}\n"
      ],
      "text/markdown": [
       "\n",
       "A matrix: 6 × 6 of type dbl\n",
       "\n",
       "| <!--/--> | В осадном положении | Злоба дня | Знай наших | Из-за денег | Путь правды | Финансовый гений |\n",
       "|---|---|---|---|---|---|---|\n",
       "| В осадном положении | 0.0000000 | 0.2157019 | 0.1818313 | 0.2606503 | 0.3326731 | 0.2408420 |\n",
       "| Злоба дня | 0.2157019 | 0.0000000 | 0.2136818 | 0.1765142 | 0.1540654 | 0.1066931 |\n",
       "| Знай наших | 0.1818313 | 0.2136818 | 0.0000000 | 0.2331347 | 0.2467962 | 0.2755038 |\n",
       "| Из-за денег | 0.2606503 | 0.1765142 | 0.2331347 | 0.0000000 | 0.1655373 | 0.1352435 |\n",
       "| Путь правды | 0.3326731 | 0.1540654 | 0.2467962 | 0.1655373 | 0.0000000 | 0.1884008 |\n",
       "| Финансовый гений | 0.2408420 | 0.1066931 | 0.2755038 | 0.1352435 | 0.1884008 | 0.0000000 |\n",
       "\n"
      ],
      "text/plain": [
       "                    В осадном положении Злоба дня Знай наших Из-за денег\n",
       "В осадном положении 0.0000000           0.2157019 0.1818313  0.2606503  \n",
       "Злоба дня           0.2157019           0.0000000 0.2136818  0.1765142  \n",
       "Знай наших          0.1818313           0.2136818 0.0000000  0.2331347  \n",
       "Из-за денег         0.2606503           0.1765142 0.2331347  0.0000000  \n",
       "Путь правды         0.3326731           0.1540654 0.2467962  0.1655373  \n",
       "Финансовый гений    0.2408420           0.1066931 0.2755038  0.1352435  \n",
       "                    Путь правды Финансовый гений\n",
       "В осадном положении 0.3326731   0.2408420       \n",
       "Злоба дня           0.1540654   0.1066931       \n",
       "Знай наших          0.2467962   0.2755038       \n",
       "Из-за денег         0.1655373   0.1352435       \n",
       "Путь правды         0.0000000   0.1884008       \n",
       "Финансовый гений    0.1884008   0.0000000       "
      ]
     },
     "metadata": {},
     "output_type": "display_data"
    }
   ],
   "source": [
    "D5 = dist(X5, method=\"euclidean\", diag=T, upper=T)\n",
    "as.matrix(D5)"
   ]
  },
  {
   "cell_type": "code",
   "execution_count": 27,
   "metadata": {},
   "outputs": [
    {
     "data": {
      "image/png": "[encoded data removed]",
      "text/plain": [
       "Plot with title “Cluster Dendrogram”"
      ]
     },
     "metadata": {},
     "output_type": "display_data"
    }
   ],
   "source": [
    "clust = hclust(D4, method = \"complete\")\n",
    "plot(clust)"
   ]
  },
  {
   "cell_type": "code",
   "execution_count": 28,
   "metadata": {},
   "outputs": [
    {
     "data": {
      "image/png": "[encoded data removed]",
      "text/plain": [
       "Plot with title “Cluster Dendrogram”"
      ]
     },
     "metadata": {},
     "output_type": "display_data"
    }
   ],
   "source": [
    "clust = hclust(D5, method = \"complete\")\n",
    "plot(clust)"
   ]
  },
  {
   "cell_type": "code",
   "execution_count": null,
   "metadata": {},
   "outputs": [],
   "source": []
  }
 ],
 "metadata": {
  "kernelspec": {
   "display_name": "R",
   "language": "R",
   "name": "ir"
  },
  "language_info": {
   "codemirror_mode": "r",
   "file_extension": ".r",
   "mimetype": "text/x-r-source",
   "name": "R",
   "pygments_lexer": "r",
   "version": "3.4.4"
  }
 },
 "nbformat": 4,
 "nbformat_minor": 2
}
